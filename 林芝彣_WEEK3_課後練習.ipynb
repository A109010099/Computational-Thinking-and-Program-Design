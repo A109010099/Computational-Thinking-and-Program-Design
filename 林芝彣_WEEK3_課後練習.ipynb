{
  "nbformat": 4,
  "nbformat_minor": 0,
  "metadata": {
    "colab": {
      "name": "林芝彣-WEEK3-課後練習.ipynb",
      "provenance": [],
      "authorship_tag": "ABX9TyOLydrEiBXXlHHKVV5lHHSt",
      "include_colab_link": true
    },
    "kernelspec": {
      "name": "python3",
      "display_name": "Python 3"
    }
  },
  "cells": [
    {
      "cell_type": "markdown",
      "metadata": {
        "id": "view-in-github",
        "colab_type": "text"
      },
      "source": [
        "<a href=\"https://colab.research.google.com/github/A109010099/Computational-Thinking-and-Program-Design/blob/main/%E6%9E%97%E8%8A%9D%E5%BD%A3_WEEK3_%E8%AA%B2%E5%BE%8C%E7%B7%B4%E7%BF%92.ipynb\" target=\"_parent\"><img src=\"https://colab.research.google.com/assets/colab-badge.svg\" alt=\"Open In Colab\"/></a>"
      ]
    },
    {
      "cell_type": "code",
      "metadata": {
        "id": "-V2SP0liCO8M"
      },
      "source": [
        ""
      ],
      "execution_count": null,
      "outputs": []
    },
    {
      "cell_type": "markdown",
      "metadata": {
        "id": "av9D4Ot2Cijs"
      },
      "source": [
        "#課後練習：從一則新聞報導，提出你對新聞系（OO系）學生為什麼要學「運算思維與程式設計」的見解\n"
      ]
    },
    {
      "cell_type": "code",
      "metadata": {
        "id": "0apgdZzmClF6"
      },
      "source": [
        ""
      ],
      "execution_count": null,
      "outputs": []
    },
    {
      "cell_type": "markdown",
      "metadata": {
        "id": "vDP10C8vC4Pd"
      },
      "source": [
        "因應現在數據化的時代，透過學習程式設計，可以訓練我們大腦的邏輯思維，在採訪或編輯上可以更專業更精準的呈現給閱聽眾，更何況現在多了許多網路影音平台，有很多的數據都需要透過程式運算，我認為學習這門課可以讓我們更方便且迅速運用在日後的工作上。\n",
        "網址：https://medium.com/dd-story-hub/p-實習經驗談-新聞編輯為什麼要學程式設計-bb375fc83bf6\n"
      ]
    }
  ]
}