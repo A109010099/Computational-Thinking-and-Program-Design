{
  "nbformat": 4,
  "nbformat_minor": 0,
  "metadata": {
    "colab": {
      "name": "林芝彣-WEEK3-練習作業.ipynb",
      "provenance": [],
      "authorship_tag": "ABX9TyN3OEqntkxhow89FFFhOM88",
      "include_colab_link": true
    },
    "kernelspec": {
      "name": "python3",
      "display_name": "Python 3"
    }
  },
  "cells": [
    {
      "cell_type": "markdown",
      "metadata": {
        "id": "view-in-github",
        "colab_type": "text"
      },
      "source": [
        "<a href=\"https://colab.research.google.com/github/A109010099/Computational-Thinking-and-Program-Design/blob/main/%E6%9E%97%E8%8A%9D%E5%BD%A3_WEEK3_%E7%B7%B4%E7%BF%92%E4%BD%9C%E6%A5%AD.ipynb\" target=\"_parent\"><img src=\"https://colab.research.google.com/assets/colab-badge.svg\" alt=\"Open In Colab\"/></a>"
      ]
    },
    {
      "cell_type": "code",
      "metadata": {
        "id": "edM82D_rMwJR"
      },
      "source": [
        ""
      ],
      "execution_count": null,
      "outputs": []
    },
    {
      "cell_type": "markdown",
      "metadata": {
        "id": "9md_peHiNAH2"
      },
      "source": [
        "隨堂練習"
      ]
    },
    {
      "cell_type": "markdown",
      "metadata": {
        "id": "8OQjxDaRNNMF"
      },
      "source": [
        "# 課後作業"
      ]
    },
    {
      "cell_type": "markdown",
      "metadata": {
        "id": "e-Id9WQYN-js"
      },
      "source": [
        "課後練習則為從一則新聞報導，提出你對新聞系（OO系）學生為什麼要學「運算思維與程式設計」的見解。（告訴我新聞連結，以及你的觀點即可。）"
      ]
    }
  ]
}