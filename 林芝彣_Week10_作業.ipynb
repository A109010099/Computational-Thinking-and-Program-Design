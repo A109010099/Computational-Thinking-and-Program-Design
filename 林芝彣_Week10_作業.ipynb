{
  "nbformat": 4,
  "nbformat_minor": 0,
  "metadata": {
    "kernelspec": {
      "display_name": "Python 3",
      "language": "python",
      "name": "python3"
    },
    "language_info": {
      "codemirror_mode": {
        "name": "ipython",
        "version": 3
      },
      "file_extension": ".py",
      "mimetype": "text/x-python",
      "name": "python",
      "nbconvert_exporter": "python",
      "pygments_lexer": "ipython3",
      "version": "3.8.5"
    },
    "colab": {
      "name": "林芝彣-Week10-作業.ipynb",
      "provenance": [],
      "include_colab_link": true
    }
  },
  "cells": [
    {
      "cell_type": "markdown",
      "metadata": {
        "id": "view-in-github",
        "colab_type": "text"
      },
      "source": [
        "<a href=\"https://colab.research.google.com/github/A109010099/Computational-Thinking-and-Program-Design/blob/main/%E6%9E%97%E8%8A%9D%E5%BD%A3_Week10_%E4%BD%9C%E6%A5%AD.ipynb\" target=\"_parent\"><img src=\"https://colab.research.google.com/assets/colab-badge.svg\" alt=\"Open In Colab\"/></a>"
      ]
    },
    {
      "cell_type": "markdown",
      "metadata": {
        "id": "RZBgrF07j9Rg"
      },
      "source": [
        "# 基本程式設計(應用篇)"
      ]
    },
    {
      "cell_type": "markdown",
      "metadata": {
        "id": "5aK3PhNwj9Rm"
      },
      "source": [
        "### 4-2 運算思維四個基石"
      ]
    },
    {
      "cell_type": "markdown",
      "metadata": {
        "id": "lKR2U4ioj9Rm"
      },
      "source": [
        "#### 4-2-4  問題拆解 - 打造你的聊天機器人"
      ]
    },
    {
      "cell_type": "markdown",
      "metadata": {
        "id": "bUDdpS9Sj9Rn"
      },
      "source": [
        "「哈囉，大家好。我叫Zyxo64，是一個聊天機器人。\n",
        "\n",
        "在嗜好與興趣方面，我很喜歡美食，也喜歡養動物。\n",
        "\n",
        "很高興有機會來到世新大學，請大家多多指教。\n",
        "\n",
        "嗨！妳好，請問大名？：Francis。\n",
        "\n",
        "Francis，很高興認識你。"
      ]
    },
    {
      "cell_type": "code",
      "metadata": {
        "id": "MNuApubyj9Rn",
        "colab": {
          "base_uri": "https://localhost:8080/"
        },
        "outputId": "3a90c35e-de44-463f-ef5d-0593fed62dd1"
      },
      "source": [
        "# 1.聊天機器人自我介紹\n",
        "print(\"哈囉,大家好。我叫Zyx064,是一個聊天機器人。\")\n",
        "print(f\"在嗜好與興趣方面，我很喜歡美食，也喜歡養動物。\")\n",
        "hello=\"很高興有機會來到世新大學，請大家多多指教\"\n",
        "print(hello)\n",
        "# 2. 打招呼，取得對方名字\n",
        "name=input(\"嗨!你好，請問大名?:\")\n"
      ],
      "execution_count": null,
      "outputs": [
        {
          "output_type": "stream",
          "text": [
            "哈囉,大家好。我叫Zyx064,是一個聊天機器人。\n",
            "在嗜好與興趣方面，我很喜歡美食，也喜歡養動物。\n",
            "很高興有機會來到世新大學，請大家多多指教\n",
            "嗨!你好，請問大名?:Elaine\n"
          ],
          "name": "stdout"
        }
      ]
    },
    {
      "cell_type": "markdown",
      "metadata": {
        "id": "dWM_HwIDj9Ro"
      },
      "source": [
        "抱歉，請問一下今年是西元2021年，那是民國幾年呢？：*110*。\n",
        "\n",
        "對！沒錯，謝謝妳！\n",
        "\n",
        "**Francis**，猜猜看我今年幾歲？ ：**18**。\n",
        "\n",
        "哇！你好聰明，我今年的確*18*。\n",
        "\n",
        "再82年我就100歲了。\n",
        "\n",
        "那時候是西元 2103年，也就是民國192年囉！"
      ]
    },
    {
      "cell_type": "code",
      "metadata": {
        "id": "TFZUtmqlj9Ro",
        "colab": {
          "base_uri": "https://localhost:8080/"
        },
        "outputId": "dd9b1497-7558-4843-fcab-ce5461b72661"
      },
      "source": [
        "# 3. 數學運算\n",
        "## 3-1 從使用者取得今年年份\n",
        "year=input(\"請問一下今年是西元2021年，那是民國幾年?\")\n",
        "print(\"對!沒錯，謝謝你!\")\n",
        "## 3-2 請使用者猜年齡\n",
        "age=input(\"Elaine，猜猜看我今年幾歲?\")\n",
        "print(\"哇!你好聰明，我今年的確\",age)\n",
        "## 3-3 計算聊天機器人滿100歲的年份\n",
        "nyears=100-int(age)\n",
        "print(f\"再{nyears}年我就100歲了。\")\n",
        "print(f\"到時候是西元 {int(year)+nyears+1911} ,年\")\n"
      ],
      "execution_count": null,
      "outputs": [
        {
          "output_type": "stream",
          "text": [
            "請問一下今年是西元2021年，那是民國幾年?110\n",
            "對!沒錯，謝謝你!\n",
            "Elaine，猜猜看我今年幾歲?18\n",
            "哇!你好聰明，我今年的確 18\n",
            "再82年我就100歲了。\n",
            "到時候是西元 2103 ,年\n"
          ],
          "name": "stdout"
        }
      ]
    },
    {
      "cell_type": "markdown",
      "metadata": {
        "id": "TYO-kGiSj9Ro"
      },
      "source": [
        "我喜歡吃巧克力，也喜歡嘗試各種新食物。\n",
        "\n",
        "你呢？你最喜歡的食物是什麼？**:披薩**。\n",
        "\n",
        "我也喜歡 *披薩*。\n",
        "\n",
        "你多久吃一次 *披薩*？**：每天**。\n",
        "\n",
        "真有趣。不知道這樣對健康好不好。"
      ]
    },
    {
      "cell_type": "code",
      "metadata": {
        "id": "1NlPBYv5j9Rp",
        "colab": {
          "base_uri": "https://localhost:8080/"
        },
        "outputId": "93b73746-e5ed-46aa-826b-ac0e70c8c5df"
      },
      "source": [
        "# 4 興趣\n",
        "## 4-1 食物話題\n",
        "print(\"我喜歡巧克力，也喜歡嘗試各種新事物。\")\n",
        "food=input(\"你呢。你最喜歡什麼食物?:\")\n",
        "print(\"我也喜歡\",food)\n",
        "\n",
        "question=\"你多久吃一次\"+food+\"?:\"\n",
        "hoeoften=input(question)\n",
        "print(\"真有趣。不知道這樣對健康好不好。\")"
      ],
      "execution_count": null,
      "outputs": [
        {
          "output_type": "stream",
          "text": [
            "我喜歡巧克力，也喜歡嘗試各種新事物。\n",
            "你呢。你最喜歡什麼食物?:ice cream\n",
            "我也喜歡 ice cream\n",
            "你多久吃一次ice cream?:一周一次\n",
            "真有趣。不知道這樣對健康好不好。\n"
          ],
          "name": "stdout"
        }
      ]
    },
    {
      "cell_type": "markdown",
      "metadata": {
        "id": "7vhtSO8Zj9Rp"
      },
      "source": [
        "我最喜歡的動物是長頸鹿。你呢？ **：烏龜**。\n",
        "\n",
        "我不喜歡*烏龜*！\n",
        "\n",
        "不知道 *烏龜* 喜不喜歡吃 *披薩*？"
      ]
    },
    {
      "cell_type": "code",
      "metadata": {
        "id": "yDwuzvVlj9Rp",
        "colab": {
          "base_uri": "https://localhost:8080/"
        },
        "outputId": "2f45c5f4-0b10-42a9-d974-12634064a25e"
      },
      "source": [
        "# 4 興趣\n",
        "## 4-2 動物話題\n",
        "animal=input(\"我最喜歡的動物是長頸鹿。你呢?\")\n",
        "print(\"我不喜歡\",animal)\n",
        "print(\"不知道\",animal,\"喜不喜歡\",food,\"?\")"
      ],
      "execution_count": null,
      "outputs": [
        {
          "output_type": "stream",
          "text": [
            "我最喜歡的動物是長頸鹿。你呢?dog\n",
            "我不喜歡 dog\n",
            "不知道 dog 喜不喜歡 ice cream ?\n"
          ],
          "name": "stdout"
        }
      ]
    },
    {
      "cell_type": "markdown",
      "metadata": {
        "id": "lGtYvFeZj9Rp"
      },
      "source": [
        "你今天的心情如何？ **：很開心**。\n",
        "\n",
        "可以告訴我你 *開心* 的原因嗎？**因為週末了！** \n",
        "\n",
        "祝你週末愉快！\n",
        "\n",
        "我喜歡跟你聊天，現在有點累了，改天再聊吧！！\n",
        "\n",
        "再見 *Francis*！"
      ]
    },
    {
      "cell_type": "code",
      "metadata": {
        "id": "FAym8jd1j9Rq",
        "colab": {
          "base_uri": "https://localhost:8080/"
        },
        "outputId": "fbb41ce2-43b9-417c-e403-dde0e8d92d2f"
      },
      "source": [
        "# 5. 關於心情的對話\n",
        "feeling=input(\"你今天心情如何?:\")\n",
        "print(\"你可以告訴我，你\",feeling,\"的原因。\")\n",
        "reson=input(\"為甚麼?:\")\n",
        "print(\"我知道了，謝謝分享。\")\n"
      ],
      "execution_count": null,
      "outputs": [
        {
          "output_type": "stream",
          "text": [
            "你今天心情如何?:happy\n",
            "你可以告訴我，你 happy 的原因。\n",
            "為甚麼?:weekend\n",
            "我知道了，謝謝分享。\n"
          ],
          "name": "stdout"
        }
      ]
    },
    {
      "cell_type": "markdown",
      "metadata": {
        "id": "_LpF7DH_j9Rq"
      },
      "source": [
        "我喜歡跟你聊天，現在有點累了，改天再聊吧！！\n",
        "\n",
        "再見 *Francis*！"
      ]
    },
    {
      "cell_type": "code",
      "metadata": {
        "id": "mc8cgMwij9Rq"
      },
      "source": [
        "# 6. 道別\n"
      ],
      "execution_count": null,
      "outputs": []
    },
    {
      "cell_type": "markdown",
      "metadata": {
        "id": "yLFgDkkrj9Rq"
      },
      "source": [
        "## 期末報告"
      ]
    },
    {
      "cell_type": "markdown",
      "metadata": {
        "id": "zAwTfcHjj9Rq"
      },
      "source": [
        "### 組長(學號姓名):A109010048班詠絜\n",
        "\n"
      ]
    },
    {
      "cell_type": "markdown",
      "metadata": {
        "id": "1U22DUd8j9Rr"
      },
      "source": [
        "### 組員(學號姓名):A109010099林芝彣 A109010018林佳穎 A109010066邵卉婕\n",
        "\n"
      ]
    },
    {
      "cell_type": "markdown",
      "metadata": {
        "id": "Zw1kVGmdj9Rr"
      },
      "source": [
        "### 題目:大學生畢業可以做什麼？"
      ]
    },
    {
      "cell_type": "markdown",
      "metadata": {
        "id": "rK-XkhP4j9Rr"
      },
      "source": [
        "### 百字腳本\n",
        "老師老師！我在「6」月「12」日要畢業了，距離現在只剩「36」天。請指引我未來人生方向！\n",
        "\n",
        "你有特別想做什麼嗎？\n",
        "\n",
        "沒有耶⋯那怎麼辦？\n",
        "\n",
        "如果沒有特別想要的工作其實還是有很多選擇的！\n",
        "\n",
        "像是什麼呢？\n",
        "\n",
        "像是「考研究所」就是個好選擇\n",
        "\n",
        "但我不想「考研究所」，可以先去「當兵」嗎？\n",
        "\n",
        "可以啊，這也是個很棒的選擇喔\n",
        "\n",
        "好耶！那如果我在「當兵」前先去「實習」呢？\n",
        "\n",
        "很好阿，在「實習」過程中可以「累積經驗」\n",
        "\n",
        "好棒哦！謝謝老師的建議，我回去會在好好思考\n",
        "\n",
        "不客氣喔，同學加油！\n",
        "\n"
      ]
    }
  ]
}